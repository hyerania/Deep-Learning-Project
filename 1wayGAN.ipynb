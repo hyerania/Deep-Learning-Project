{
 "cells": [
  {
   "cell_type": "code",
   "execution_count": 2,
   "metadata": {},
   "outputs": [],
   "source": [
    "import torch\n",
    "import torchvision\n",
    "import torchvision.transforms as transforms\n",
    "import torch.optim as optim\n",
    "import torch.nn as nn\n",
    "import torch.nn.functional as F\n",
    "import matplotlib.pyplot as plt\n",
    "import matplotlib.image as mpimg\n",
    "import numpy as np\n",
    "import skimage.color\n",
    "from torch import autograd\n",
    "from torch.autograd import Variable\n",
    "from torchvision.utils import save_image\n",
    "from scipy.misc import toimage\n",
    "\n",
    "device = torch.device('cuda')     # Default CUDA device"
   ]
  },
  {
   "cell_type": "markdown",
   "metadata": {},
   "source": [
    "### Parameters"
   ]
  },
  {
   "cell_type": "code",
   "execution_count": 3,
   "metadata": {},
   "outputs": [],
   "source": [
    "SIZE = 512\n",
    "BETA1 = 0.5\n",
    "BETA2 = 0.999\n",
    "LAMBDA = 10\n",
    "ALPHA = 1000\n",
    "BATCH_SIZE = 5\n",
    "NUM_EPOCHS = 5\n",
    "LATENT_DIM = 100\n",
    "TRAIN_NUM = 50"
   ]
  },
  {
   "cell_type": "markdown",
   "metadata": {},
   "source": [
    "### Generator Network"
   ]
  },
  {
   "cell_type": "code",
   "execution_count": null,
   "metadata": {},
   "outputs": [],
   "source": [
    "class Generator(nn.Module):\n",
    "    def __init__(self):\n",
    "        super(Generator, self).__init__()\n",
    "        #  Convolutional layers \n",
    "        \n",
    "        # input 512x512x3  output 512x512x16\n",
    "        self.conv1 = nn.Conv2d(3, 16, 5, stride = 1, padding = 2)\n",
    "        self.conv1_bn = nn.BatchNorm2d(16)\n",
    "        \n",
    "        # input 512x512x16  output 256x256x32\n",
    "        self.conv2 = nn.Conv2d(16, 32, 5, stride = 2, padding = 2)\n",
    "        self.conv2_bn = nn.BatchNorm2d(32)\n",
    "        \n",
    "        # input 265x256x32  output 128x128x64\n",
    "        self.conv3 = nn.Conv2d(32, 64, 5, stride = 2, padding = 2)\n",
    "        self.conv3_bn = nn.BatchNorm2d(64)\n",
    "        \n",
    "        # input 128x128x64  output 64x64x128\n",
    "        self.conv4 = nn.Conv2d(64, 128, 5, stride = 2, padding = 2)\n",
    "        self.conv4_bn = nn.BatchNorm2d(128)\n",
    "        \n",
    "        # input 64x64x128  output 32x32x128\n",
    "        # the output of this layer we need layers for global features\n",
    "        self.conv5 = nn.Conv2d(128, 128, 5, stride = 2, padding = 2)\n",
    "        self.conv5_bn = nn.BatchNorm2d(128)\n",
    "        \n",
    "        # convs for global features\n",
    "        # input 32x32x128 output 16x16x128\n",
    "        self.conv51 = nn.Conv2d(128,128,5, stride =2 , padding =2 )\n",
    "        \n",
    "        # input 16x16x128 output 8x8x128\n",
    "        self.conv52 = nn.Conv2d(128,128,5, stride =2 , padding =2 )\n",
    "        \n",
    "        # input 8x8x128 output 1x1x128\n",
    "        self.conv531 = nn.Conv2d(128,128,5, stride =2 , padding =1 )\n",
    "        \n",
    "        # input 1x1x128 output 1x1x128\n",
    "        self.conv532 = nn.Conv2d(128,128,5, stride =2 , padding =1 )\n",
    "        \n",
    "        # input 32x32x128 output 32x32x128\n",
    "        # the global features should be concatenated to the feature map aftere this layer\n",
    "        # the output after concat would be 32x32x256\n",
    "        self.conv6 = nn.Conv2d(128, 128, 5, stride = 1, padding =2)\n",
    "        \n",
    "        # input 32x32x256 output 32x32x128\n",
    "        self.conv7 = nn.Conv2d(256, 128, 5, stride = 1, padding = 2)\n",
    "        \n",
    "        # deconvolutional layers\n",
    "        # input 32x32x128 output 64x64x128\n",
    "        self.dconv1 = nn.ConvTranspose2d(128, 128, 5, stride = 2, padding = 2, output_padding = 1)\n",
    "        self.dconv1_bn = nn.BatchNorm2d(128)\n",
    "        \n",
    "        # input 64x64x256 ouput 128x128x128\n",
    "        self.dconv2 = nn.ConvTranspose2d(256, 128, 5, stride = 2, padding = 2, output_padding = 1)\n",
    "        self.dconv2_bn = nn.BatchNorm2d(256)\n",
    "        \n",
    "        # input 128x128x192 output 256x256x64\n",
    "        self.dconv3 = nn.ConvTranspose2d(192, 64, 5, stride = 2, padding = 2, output_padding = 1)\n",
    "        self.dconv3_bn = nn.BatchNorm2d(192)\n",
    "        \n",
    "        # input 256x256x96 ouput 512x512x32\n",
    "        self.dconv4 = nn.ConvTranspose2d(96, 32, 5, stride = 2, padding = 2, output_padding = 1)\n",
    "        self.dconv4_bn = nn.BatchNorm2d(96)\n",
    "        \n",
    "        # final convolutional layers\n",
    "        # input 512x512x48 output 512x512x16\n",
    "        self.conv8 = nn.Conv2d(48, 16, 5, stride = 1, padding = 2)\n",
    "        self.conv8_bn = nn.BatchNorm2d(48)\n",
    "        \n",
    "        # input 512x512x16 output 512x512x3\n",
    "        self.conv9 = nn.Conv2d(16, 3, 5, stride = 1, padding = 2)    \n",
    "        self.conv9_bn = nn.BatchNorm2d(16)\n",
    "        # SELU\n",
    "                \n",
    "    def forward(self, x):\n",
    "        # input 512x512x3 to output 512x512x16\n",
    "        x = self.conv1_bn(F.selu(self.conv1(x)))\n",
    "\n",
    "        # input 512x512x16 to output 256x256x32\n",
    "        x1 = self.conv2_bn(F.selu(self.conv2(x)))\n",
    "\n",
    "        # input 256x256x32 to output 128x128x64\n",
    "        x2 = self.conv3_bn(F.selu(self.conv3(x1)))\n",
    "\n",
    "        # input 128x128x64 to output 64x64x128\n",
    "        x3 = self.conv4_bn(F.selu(self.conv4(x2)))\n",
    "\n",
    "        # input 64x64x128 to output 32x32x128\n",
    "        x4 = self.conv5_bn(F.selu(self.conv5(x3)))\n",
    "\n",
    "        #convolutions for global features\n",
    "        # input 32x32x128 to output 16x16x128\n",
    "        x51 = self.conv51(x4)\n",
    "        \n",
    "        # input 16x16x128 to output 8x8x128\n",
    "        x52 = self.conv52(x51)\n",
    "        \n",
    "        # input 8x8x128 to output 1x1x128\n",
    "        x53 = self.conv532(F.selu(self.conv531(x52)))\n",
    "        x53_temp = torch.cat([x53]*32,dim = 2 )\n",
    "        x53_temp = torch.cat([x53_temp]*32,dim=3)\n",
    "\n",
    "        # input 32x32x256 to output 32x32x128\n",
    "        x5 = self.conv6(x4)\n",
    "        \n",
    "        # input 32x32x128 to output 32x32x128\n",
    "        x5 = self.conv7(torch.cat([x5,x53_temp],dim=1))\n",
    "\n",
    "        # input 32x32x128 to output 64x64x128\n",
    "        xd = self.dconv1(self.dconv1_bn(F.selu(x5)))\n",
    "\n",
    "        # input 64x64x256 to output 128x128x128\n",
    "        xd = self.dconv2(self.dconv2_bn(F.selu(torch.cat([xd,x3], dim=1))))\n",
    "\n",
    "        # input 128x128x192 to output 256x256x64\n",
    "        xd = self.dconv3(self.dconv3_bn(F.selu(torch.cat([xd,x2],dim=1))))\n",
    "\n",
    "        # input 256x256x64 to output 512x512x32\n",
    "        xd = self.dconv4(self.dconv4_bn(F.selu(torch.cat([xd,x1],dim=1))))\n",
    "\n",
    "        # input 512x512x48 to output 512x512x16\n",
    "        xd = self.conv8(self.conv8_bn(F.selu(torch.cat([xd,x],dim=1))))\n",
    "\n",
    "        # input 512x512x16 to output 512x512x3\n",
    "        xd = self.conv9(self.conv9_bn(F.selu((xd))))\n",
    "        return xd"
   ]
  },
  {
   "cell_type": "markdown",
   "metadata": {},
   "source": [
    "### Discriminator Network"
   ]
  },
  {
   "cell_type": "code",
   "execution_count": null,
   "metadata": {},
   "outputs": [],
   "source": [
    "class Discriminator(nn.Module):\n",
    "    def __init__(self):\n",
    "        super(Discriminator, self).__init__()\n",
    "        #  Convolutional layers \n",
    "        \n",
    "        # input 512x512x3  output 512x512x16\n",
    "        self.conv1 = nn.Conv2d(3, 16, 5, stride = 1, padding = 2)\n",
    "        self.conv1_in = nn.InstanceNorm2d(16)\n",
    "        \n",
    "        # input 512x512x16  output 256x256x32\n",
    "        self.conv2 = nn.Conv2d(16, 32, 5, stride = 2, padding = 2)\n",
    "        self.conv2_in = nn.InstanceNorm2d(32)\n",
    "        \n",
    "        # input 265x256x32  output 128x128x64\n",
    "        self.conv3 = nn.Conv2d(32, 64, 5, stride = 2, padding = 2)\n",
    "        self.conv3_in = nn.InstanceNorm2d(64)\n",
    "        \n",
    "        # input 128x128x64  output 64x64x128\n",
    "        self.conv4 = nn.Conv2d(64, 128, 5, stride = 2, padding = 2)\n",
    "        self.conv4_in = nn.InstanceNorm2d(128)\n",
    "        \n",
    "        # input 64x64x128  output 32x32x128\n",
    "        # the output of this layer we need layers for global features\n",
    "        self.conv5 = nn.Conv2d(128, 128, 5, stride = 2, padding = 2)\n",
    "        self.conv5_in = nn.InstanceNorm2d(128)\n",
    "        \n",
    "        # input 32x32x128  output 16x16x128\n",
    "        # the output of this layer we need layers for global features\n",
    "        self.conv6 = nn.Conv2d(128, 128, 5, stride = 2, padding = 2)\n",
    "        self.conv6_in = nn.InstanceNorm2d(128)\n",
    "        \n",
    "        # input 16x16x128  output 1x1x1\n",
    "        # the output of this layer we need layers for global features\n",
    "        self.conv7 = nn.Conv2d(128, 1, 16)\n",
    "        self.conv7_in = nn.InstanceNorm2d(1)\n",
    "        \n",
    "    def forward(self, x):\n",
    "        # input 512x512x3 to output 512x512x16\n",
    "        x = self.conv1_in(F.leaky_relu(self.conv1(x)))\n",
    "\n",
    "        # input 512x512x16 to output 256x256x32\n",
    "        x = self.conv2_in(F.leaky_relu(self.conv2(x)))\n",
    "        \n",
    "        # input 256x256x32 to output 128x128x64\n",
    "        x = self.conv3_in(F.leaky_relu(self.conv3(x)))\n",
    "        \n",
    "        # input 128x128x64 to output 64x64x128\n",
    "        x = self.conv4_in(F.leaky_relu(self.conv4(x)))\n",
    "        \n",
    "        # input 64x64x128 to output 32x32x128\n",
    "        x = self.conv5_in(F.leaky_relu(self.conv5(x)))\n",
    "        \n",
    "        # input 32x32x128 to output 16x16x128\n",
    "        x = self.conv6_in(F.leaky_relu(self.conv6(x)))\n",
    "        \n",
    "        # input 16x16x128 to output 1x1x1\n",
    "        x = self.conv7(x)\n",
    "        x = F.leaky_relu(x)\n",
    "        \n",
    "        return x"
   ]
  },
  {
   "cell_type": "code",
   "execution_count": null,
   "metadata": {},
   "outputs": [],
   "source": [
    "generator1 = Generator()\n",
    "discriminator = Discriminator()"
   ]
  },
  {
   "cell_type": "markdown",
   "metadata": {},
   "source": [
    "### Loading Training and Test Set Data"
   ]
  },
  {
   "cell_type": "code",
   "execution_count": null,
   "metadata": {},
   "outputs": [],
   "source": [
    "# # Converting the images for PILImage to tensor, so they can be accepted as the input to the network\n",
    "# transform = transforms.Compose ([transforms.Resize(SIZE, interpolation=2),transforms.ToTensor()])\n",
    "\n",
    "# trainset = torchvision.datasets.STL10(root='./data', split='unlabeled', transform=transform, target_transform=None, download=True)\n",
    "# trainloader = torch.utils.data.DataLoader(trainset, batch_size=BATCH_SIZE, shuffle=True)"
   ]
  },
  {
   "cell_type": "code",
   "execution_count": null,
   "metadata": {},
   "outputs": [],
   "source": [
    "# testset = torchvision.datasets.STL10(root='./data', split='test', transform=transform, target_transform=None, download=True)\n",
    "# testloader = torch.utils.data.DataLoader(testset, batch_size=BATCH_SIZE, shuffle=False)"
   ]
  },
  {
   "cell_type": "code",
   "execution_count": null,
   "metadata": {},
   "outputs": [],
   "source": []
  },
  {
   "cell_type": "markdown",
   "metadata": {},
   "source": [
    "### MSE Loss and Optimizer"
   ]
  },
  {
   "cell_type": "code",
   "execution_count": null,
   "metadata": {},
   "outputs": [],
   "source": [
    "criterion = nn.MSELoss()\n",
    "\n",
    "optimizer_g1 = optim.Adam(generator1.parameters(), lr = 0.001, betas=(BETA1,BETA2))\n",
    "optimizer_d = optim.Adam(discriminator.parameters(), lr = 0.001, betas=(BETA1,BETA2))\n",
    "\n",
    "# Tensor = torch.cuda.FloatTensor if cuda else torch.FloatTensor\n",
    "Tensor = torch.FloatTensor"
   ]
  },
  {
   "cell_type": "markdown",
   "metadata": {},
   "source": [
    "### Gradient Penalty\n",
    "Computes gradient penalty loss for A-WGAN"
   ]
  },
  {
   "cell_type": "code",
   "execution_count": null,
   "metadata": {},
   "outputs": [],
   "source": [
    "def computeGradientPenalty(D, realSample, fakeSample):\n",
    "    alpha = Tensor(np.random.random((realSample.shape)))\n",
    "    interpolates = (alpha * realSample + ((1 - alpha) * fakeSample)).requires_grad_(True)\n",
    "    dInterpolation = D(interpolates)\n",
    "    fakeOutput = Variable(Tensor(realSample.shape[0],1,1,1).fill_(1.0), requires_grad=False)\n",
    "    \n",
    "    gradients = autograd.grad(\n",
    "        outputs = dInterpolation,\n",
    "        inputs = interpolates,\n",
    "        grad_outputs = fakeOutput,\n",
    "        create_graph = True,\n",
    "        retain_graph = True,\n",
    "        only_inputs = True)[0]\n",
    "    \n",
    "    gradients = gradients.view(gradients.size(0), -1)\n",
    "    maxVals = []\n",
    "    normGradients = gradients.norm(2, dim=1)-1\n",
    "    for i in range(len(normGradients)):\n",
    "        if(normGradients[i] > 0):\n",
    "            maxVals.append(normGradients[i].detach().numpy())\n",
    "        else:\n",
    "            maxVals.append(0)\n",
    "\n",
    "    gradientPenalty = np.mean(maxVals)\n",
    "    return gradientPenalty"
   ]
  },
  {
   "cell_type": "markdown",
   "metadata": {},
   "source": [
    "### Generator Loss"
   ]
  },
  {
   "cell_type": "code",
   "execution_count": null,
   "metadata": {},
   "outputs": [],
   "source": [
    "def generatorAdversarialLoss( output_images):\n",
    "    validity = discriminator(output_images)\n",
    "    gen_adv_loss = torch.mean(validity)\n",
    "    \n",
    "    return gen_adv_loss\n",
    "\n",
    "\n",
    "def computeGeneratorLoss(inputs, outputs_g1):\n",
    "    # generator 1\n",
    "    gen_adv_loss1 = generatorAdversarialLoss(outputs_g1)\n",
    "    \n",
    "    i_loss = criterion(inputs, outputs_g1)\n",
    "    gen_loss = -gen_adv_loss1 + ALPHA*i_loss\n",
    "    \n",
    "    return gen_loss"
   ]
  },
  {
   "cell_type": "markdown",
   "metadata": {},
   "source": [
    "### Discriminator Loss"
   ]
  },
  {
   "cell_type": "code",
   "execution_count": null,
   "metadata": {},
   "outputs": [],
   "source": [
    "def discriminatorLoss(d1Real, d1Fake, gradPenalty):\n",
    "    return (torch.mean(d1Fake) - torch.mean(d1Real)) + (LAMBDA*gradPenalty)"
   ]
  },
  {
   "cell_type": "markdown",
   "metadata": {},
   "source": [
    "### Training Network"
   ]
  },
  {
   "cell_type": "code",
   "execution_count": null,
   "metadata": {
    "scrolled": true
   },
   "outputs": [],
   "source": [
    "batches_done = 0\n",
    "for epoch in range(NUM_EPOCHS):\n",
    "    for i, data in enumerate(trainloader, 0):\n",
    "        input, dummy = data\n",
    "        realImgs = Variable(input.type(Tensor))\n",
    "        noiseImgs = Variable(Tensor(np.random.normal(loc = 0,scale = 1, size = input.shape)))\n",
    "        \n",
    "        ### TRAIN DISCRIMINATOR\n",
    "        optimizer_d.zero_grad()\n",
    "        fakeImgs = generator1(noiseImgs)\n",
    "        \n",
    "        # Real Images\n",
    "        realValid = discriminator(realImgs)\n",
    "        # Fake Images\n",
    "        fakeValid = discriminator(fakeImgs)\n",
    "        \n",
    "        gradientPenalty = computeGradientPenalty(discriminator, realImgs.data, fakeImgs.data)\n",
    "        dLoss = discriminatorLoss(realValid, fakeValid, gradientPenalty)\n",
    "        dLoss.backward()\n",
    "        optimizer_d.step()\n",
    "        optimizer_g1.zero_grad()\n",
    "        \n",
    "        ### TRAIN GENERATOR\n",
    "        if TRAIN_NUM % 50 == 0:\n",
    "            print(\"Training Generator on Iteration: %d\" % (i))\n",
    "            # Generate a batch of images\n",
    "            fake_imgs = generator1(noiseImgs)\n",
    "            residual_learning = fake_imgs + noiseImgs\n",
    "            gLoss = computeGeneratorLoss(noiseImgs,residual_learning)\n",
    "\n",
    "            gLoss.backward()\n",
    "            optimizer_g1.step()\n",
    "    \n",
    "            print(\"[Epoch %d/%d] [Batch %d/%d] [D loss: |%f] [G loss: %f]\" % (epoch, NUM_EPOCHS , i, len(trainloader), dLoss.item(), gLoss.item()))\n",
    "            f = open(\"logStatus.txt\",\"a+\")\n",
    "            f.write(\"[Epoch %d/%d] [Batch %d/%d] [D loss: |%f] [G loss: %f]\\n\" % (epoch, NUM_EPOCHS , i, len(trainloader), dLoss.item(), gLoss.item()))\n",
    "            f.close()\n",
    "            \n",
    "            if batches_done % 200 == 0:\n",
    "                save_image(fake_imgs.data[:25], \"images/%d.png\" % batches_done, nrow=5, normalize=True)\n",
    "\n",
    "            batches_done += TRAIN_NUM\n",
    "            print(\"Done training generator on iteration: %d\" % (i))\n",
    "            \n",
    "            "
   ]
  },
  {
   "cell_type": "code",
   "execution_count": null,
   "metadata": {},
   "outputs": [],
   "source": []
  },
  {
   "cell_type": "code",
   "execution_count": null,
   "metadata": {},
   "outputs": [],
   "source": []
  }
 ],
 "metadata": {
  "kernelspec": {
   "display_name": "Python 3",
   "language": "python",
   "name": "python3"
  },
  "language_info": {
   "codemirror_mode": {
    "name": "ipython",
    "version": 3
   },
   "file_extension": ".py",
   "mimetype": "text/x-python",
   "name": "python",
   "nbconvert_exporter": "python",
   "pygments_lexer": "ipython3",
   "version": "3.6.7"
  }
 },
 "nbformat": 4,
 "nbformat_minor": 2
}
