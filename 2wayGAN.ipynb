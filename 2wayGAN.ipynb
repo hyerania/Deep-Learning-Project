{
 "cells": [
  {
   "cell_type": "code",
   "execution_count": 13,
   "metadata": {},
   "outputs": [],
   "source": [
    "import torch\n",
    "import torchvision\n",
    "import torchvision.transforms as transforms\n",
    "import torch.optim as optim\n",
    "import torch.nn as nn\n",
    "import torch.nn.functional as F\n",
    "import matplotlib.pyplot as plt\n",
    "import matplotlib.image as mpimg\n",
    "import numpy as np\n",
    "from scipy.misc import toimage\n",
    "import skimage.color\n",
    "from torch import autograd\n",
    "from torch.autograd import Variable\n",
    "\n",
    "device = torch.device('cuda')     # Default CUDA device"
   ]
  },
  {
   "cell_type": "markdown",
   "metadata": {},
   "source": [
    "### Parameters"
   ]
  },
  {
   "cell_type": "code",
   "execution_count": 2,
   "metadata": {},
   "outputs": [],
   "source": [
    "SIZE = 512\n",
    "BETA1 = 0.5\n",
    "BETA2 = 0.999\n",
    "LAMBDA = 10\n",
    "ALPHA = 1000\n",
    "BATCH_SIZE = 5\n",
    "NUM_EPOCHS = 5\n",
    "LATENT_DIM = 100\n",
    "TRAIN_NUM = 50"
   ]
  },
  {
   "cell_type": "markdown",
   "metadata": {},
   "source": [
    "### Generator Network"
   ]
  },
  {
   "cell_type": "code",
   "execution_count": 3,
   "metadata": {},
   "outputs": [],
   "source": [
    "class Generator(nn.Module):\n",
    "    def __init__(self):\n",
    "        super(Generator, self).__init__()\n",
    "        #  Convolutional layers \n",
    "        \n",
    "        # input 512x512x3  output 512x512x16\n",
    "        self.conv1 = nn.Conv2d(3, 16, 5, stride = 1, padding = 2)\n",
    "        self.conv1_bn = nn.BatchNorm2d(16)\n",
    "        \n",
    "        # input 512x512x16  output 256x256x32\n",
    "        self.conv2 = nn.Conv2d(16, 32, 5, stride = 2, padding = 2)\n",
    "        self.conv2_bn = nn.BatchNorm2d(32)\n",
    "        \n",
    "        # input 265x256x32  output 128x128x64\n",
    "        self.conv3 = nn.Conv2d(32, 64, 5, stride = 2, padding = 2)\n",
    "        self.conv3_bn = nn.BatchNorm2d(64)\n",
    "        \n",
    "        # input 128x128x64  output 64x64x128\n",
    "        self.conv4 = nn.Conv2d(64, 128, 5, stride = 2, padding = 2)\n",
    "        self.conv4_bn = nn.BatchNorm2d(128)\n",
    "        \n",
    "        # input 64x64x128  output 32x32x128\n",
    "        # the output of this layer we need layers for global features\n",
    "        self.conv5 = nn.Conv2d(128, 128, 5, stride = 2, padding = 2)\n",
    "        self.conv5_bn = nn.BatchNorm2d(128)\n",
    "        \n",
    "        # convs for global features\n",
    "        # input 32x32x128 output 16x16x128\n",
    "        self.conv51 = nn.Conv2d(128,128,5, stride =2 , padding =2 )\n",
    "        \n",
    "        # input 16x16x128 output 8x8x128\n",
    "        self.conv52 = nn.Conv2d(128,128,5, stride =2 , padding =2 )\n",
    "        \n",
    "        # input 8x8x128 output 1x1x128\n",
    "        self.conv531 = nn.Conv2d(128,128,5, stride =2 , padding =1 )\n",
    "        \n",
    "        # input 1x1x128 output 1x1x128\n",
    "        self.conv532 = nn.Conv2d(128,128,5, stride =2 , padding =1 )\n",
    "        \n",
    "        # input 32x32x128 output 32x32x128\n",
    "        # the global features should be concatenated to the feature map aftere this layer\n",
    "        # the output after concat would be 32x32x256\n",
    "        self.conv6 = nn.Conv2d(128, 128, 5, stride = 1, padding =2)\n",
    "        \n",
    "        # input 32x32x256 output 32x32x128\n",
    "        self.conv7 = nn.Conv2d(256, 128, 5, stride = 1, padding = 2)\n",
    "        \n",
    "        # deconvolutional layers\n",
    "        # input 32x32x128 output 64x64x128\n",
    "        self.dconv1 = nn.ConvTranspose2d(128, 128, 5, stride = 2, padding = 2, output_padding = 1)\n",
    "        self.dconv1_bn = nn.BatchNorm2d(128)\n",
    "        \n",
    "        # input 64x64x256 ouput 128x128x128\n",
    "        self.dconv2 = nn.ConvTranspose2d(256, 128, 5, stride = 2, padding = 2, output_padding = 1)\n",
    "        self.dconv2_bn = nn.BatchNorm2d(256)\n",
    "        \n",
    "        # input 128x128x192 output 256x256x64\n",
    "        self.dconv3 = nn.ConvTranspose2d(192, 64, 5, stride = 2, padding = 2, output_padding = 1)\n",
    "        self.dconv3_bn = nn.BatchNorm2d(192)\n",
    "        \n",
    "        # input 256x256x96 ouput 512x512x32\n",
    "        self.dconv4 = nn.ConvTranspose2d(96, 32, 5, stride = 2, padding = 2, output_padding = 1)\n",
    "        self.dconv4_bn = nn.BatchNorm2d(96)\n",
    "        \n",
    "        # final convolutional layers\n",
    "        # input 512x512x48 output 512x512x16\n",
    "        self.conv8 = nn.Conv2d(48, 16, 5, stride = 1, padding = 2)\n",
    "        self.conv8_bn = nn.BatchNorm2d(48)\n",
    "        \n",
    "        # input 512x512x16 output 512x512x3\n",
    "        self.conv9 = nn.Conv2d(16, 3, 5, stride = 1, padding = 2)    \n",
    "        self.conv9_bn = nn.BatchNorm2d(16)\n",
    "        # SELU\n",
    "                \n",
    "    def forward(self, x):\n",
    "        # input 512x512x3 to output 512x512x16\n",
    "        x = self.conv1_bn(F.selu(self.conv1(x)))\n",
    "        print(\"x\")\n",
    "        print(x.shape)\n",
    "        # input 512x512x16 to output 256x256x32\n",
    "        x1 = self.conv2_bn(F.selu(self.conv2(x)))\n",
    "        print(\"x1\")\n",
    "        print(x1.shape)\n",
    "        # input 256x256x32 to output 128x128x64\n",
    "        x2 = self.conv3_bn(F.selu(self.conv3(x1)))\n",
    "        print(\"x2\")\n",
    "        print(x2.shape)\n",
    "        # input 128x128x64 to output 64x64x128\n",
    "        x3 = self.conv4_bn(F.selu(self.conv4(x2)))\n",
    "        print(\"x3\")\n",
    "        print(x3.shape)\n",
    "        # input 64x64x128 to output 32x32x128\n",
    "        x4 = self.conv5_bn(F.selu(self.conv5(x3)))\n",
    "        print(\"x4\")\n",
    "        print(x4.shape)\n",
    "        #convolutions for global features\n",
    "        # input 32x32x128 to output 16x16x128\n",
    "        x51 = self.conv51(x4)\n",
    "        print(\"x51\")\n",
    "        print(x51.shape)\n",
    "        # input 16x16x128 to output 8x8x128\n",
    "        x52 = self.conv52(x51)\n",
    "        print(\"x52\")\n",
    "        print(x52.shape)\n",
    "        # input 8x8x128 to output 1x1x128\n",
    "        x53 = self.conv532(F.selu(self.conv531(x52)))\n",
    "        print(\"x53\")\n",
    "        print(x53.shape)\n",
    "        x53_temp = torch.cat([x53]*32,dim = 2 )\n",
    "        x53_temp = torch.cat([x53_temp]*32,dim=3)\n",
    "        print(\"x53_temp\")\n",
    "        print(x53_temp.shape)\n",
    "        \n",
    "        # input 32x32x256 to output 32x32x128\n",
    "        x5 = self.conv6(x4)\n",
    "        print(\"x5\")\n",
    "        print(x5.shape)\n",
    "        # input 32x32x128 to output 32x32x128\n",
    "        x5 = self.conv7(torch.cat([x5,x53_temp],dim=1))\n",
    "        print(\"x5\")\n",
    "        print(x5.shape)\n",
    "        # input 32x32x128 to output 64x64x128\n",
    "        xd = self.dconv1(self.dconv1_bn(F.selu(x5)))\n",
    "        print(\"xd1\")\n",
    "        print(xd.shape)\n",
    "        # input 64x64x256 to output 128x128x128\n",
    "        xd = self.dconv2(self.dconv2_bn(F.selu(torch.cat([xd,x3], dim=1))))\n",
    "        print(\"xd2\")\n",
    "        print(xd.shape)\n",
    "        # input 128x128x192 to output 256x256x64\n",
    "        xd = self.dconv3(self.dconv3_bn(F.selu(torch.cat([xd,x2],dim=1))))\n",
    "        print(\"xd3\")\n",
    "        print(xd.shape)\n",
    "        # input 256x256x64 to output 512x512x32\n",
    "        xd = self.dconv4(self.dconv4_bn(F.selu(torch.cat([xd,x1],dim=1))))\n",
    "        print(\"xd4\")\n",
    "        print(xd.shape)\n",
    "        # input 512x512x48 to output 512x512x16\n",
    "        xd = self.conv8(self.conv8_bn(F.selu(torch.cat([xd,x],dim=1))))\n",
    "        print(\"xd 8\")\n",
    "        print(xd.shape)\n",
    "        # input 512x512x16 to output 512x512x3\n",
    "        xd = self.conv9(self.conv9_bn(F.selu((xd))))\n",
    "        print(\"xd 9\")\n",
    "        print(xd.shape)\n",
    "        return xd"
   ]
  },
  {
   "cell_type": "markdown",
   "metadata": {},
   "source": [
    "### Discriminator Network"
   ]
  },
  {
   "cell_type": "code",
   "execution_count": 4,
   "metadata": {},
   "outputs": [],
   "source": [
    "class Discriminator(nn.Module):\n",
    "    def __init__(self):\n",
    "        super(Discriminator, self).__init__()\n",
    "        #  Convolutional layers \n",
    "        \n",
    "        # input 512x512x3  output 512x512x16\n",
    "        self.conv1 = nn.Conv2d(3, 16, 5, stride = 2, padding = 2)\n",
    "        self.conv1_in = nn.InstanceNorm2d(16)\n",
    "        \n",
    "        # input 512x512x16  output 256x256x32\n",
    "        self.conv2 = nn.Conv2d(16, 32, 5, stride = 2, padding = 2)\n",
    "        self.conv2_in = nn.InstanceNorm2d(32)\n",
    "        \n",
    "        # input 265x256x32  output 128x128x64\n",
    "        self.conv3 = nn.Conv2d(32, 64, 5, stride = 2, padding = 2)\n",
    "        self.conv3_in = nn.InstanceNorm2d(64)\n",
    "        \n",
    "        # input 128x128x64  output 64x64x128\n",
    "        self.conv4 = nn.Conv2d(64, 128, 5, stride = 2, padding = 2)\n",
    "        self.conv4_in = nn.InstanceNorm2d(128)\n",
    "        \n",
    "        # input 64x64x128  output 32x32x128\n",
    "        # the output of this layer we need layers for global features\n",
    "        self.conv5 = nn.Conv2d(128, 128, 5, stride = 2, padding = 2)\n",
    "        self.conv5_in = nn.InstanceNorm2d(128)\n",
    "        \n",
    "        # input 32x32x128  output 16x16x128\n",
    "        # the output of this layer we need layers for global features\n",
    "        self.conv6 = nn.Conv2d(128, 128, 5, stride = 2, padding = 2)\n",
    "        self.conv6_in = nn.InstanceNorm2d(128)\n",
    "        \n",
    "        # input 16x16x128  output 1x1x1\n",
    "        # the output of this layer we need layers for global features\n",
    "        self.conv6 = nn.Conv2d(128, 1, 5, stride = 32, padding = 1)\n",
    "        self.conv6_in = nn.InstanceNorm2d(1)\n",
    "        \n",
    "    def forward(self, x):\n",
    "        \n",
    "        # input 512x512x3 to output 512x512x16\n",
    "        x = self.conv1_in(F.leaky_relu(self.conv1(x)))\n",
    "        \n",
    "        # input 512x512x16 to output 256x256x32\n",
    "        x = self.conv2_in(F.leaky_relu(self.conv2(x)))\n",
    "        \n",
    "        # input 256x256x32 to output 128x128x64\n",
    "        x = self.conv3_in(F.leaky_relu(self.conv3(x)))\n",
    "        \n",
    "        # input 128x128x64 to output 64x64x128\n",
    "        x = self.conv4_in(F.leaky_relu(self.conv4(x)))\n",
    "        \n",
    "        # input 64x64x128 to output 32x32x128\n",
    "        x = self.conv5_in(F.leaky_relu(self.conv5(x)))\n",
    "        \n",
    "        # input 32x32x128 to output 16x16x128\n",
    "        x = self.conv5_in(F.leaky_relu(self.conv5(x)))\n",
    "        \n",
    "        # input 16x16x128 to output 1x1x1\n",
    "        x = self.conv5_in(F.leaky_relu(self.conv5(x)))\n",
    "        \n",
    "        return x"
   ]
  },
  {
   "cell_type": "code",
   "execution_count": 5,
   "metadata": {},
   "outputs": [],
   "source": [
    "generator1 = Generator()\n",
    "# generator2 = Generator()\n",
    "discriminator = Discriminator()\n",
    "# print(generator1)\n",
    "# print(discriminator)"
   ]
  },
  {
   "cell_type": "markdown",
   "metadata": {},
   "source": [
    "### Loading Training and Test Set Data"
   ]
  },
  {
   "cell_type": "code",
   "execution_count": 6,
   "metadata": {},
   "outputs": [
    {
     "name": "stdout",
     "output_type": "stream",
     "text": [
      "Files already downloaded and verified\n"
     ]
    }
   ],
   "source": [
    "# Converting the images for PILImage to tensor, so they can be accepted as the input to the network\n",
    "transform = transforms.Compose ([transforms.Resize(SIZE, interpolation=2),transforms.ToTensor()])\n",
    "\n",
    "trainset = torchvision.datasets.STL10(root='./data', split='unlabeled', transform=transform, target_transform=None, download=True)\n",
    "trainloader = torch.utils.data.DataLoader(trainset, batch_size=BATCH_SIZE, shuffle=True)"
   ]
  },
  {
   "cell_type": "code",
   "execution_count": 7,
   "metadata": {},
   "outputs": [
    {
     "name": "stdout",
     "output_type": "stream",
     "text": [
      "Files already downloaded and verified\n"
     ]
    }
   ],
   "source": [
    "testset = torchvision.datasets.STL10(root='./data', split='test', transform=transform, target_transform=None, download=True)\n",
    "testloader = torch.utils.data.DataLoader(testset, batch_size=BATCH_SIZE, shuffle=False)"
   ]
  },
  {
   "cell_type": "markdown",
   "metadata": {},
   "source": [
    "### MSE Loss and Optimizer"
   ]
  },
  {
   "cell_type": "code",
   "execution_count": 8,
   "metadata": {},
   "outputs": [],
   "source": [
    "criterion = nn.MSELoss()\n",
    "\n",
    "optimizer_g1 = optim.Adam(generator1.parameters(), lr = 0.001, betas=(BETA1,BETA2))\n",
    "# optimizer_g2 = optim.Adam(generator2.parameters(), lr = 0.001, betas=(BETA1,BETA2))\n",
    "optimizer_d = optim.Adam(discriminator.parameters(), lr = 0.001, betas=(BETA1,BETA2))\n",
    "\n",
    "# Tensor = torch.cuda.FloatTensor if cuda else torch.FloatTensor\n",
    "Tensor = torch.FloatTensor"
   ]
  },
  {
   "cell_type": "markdown",
   "metadata": {},
   "source": [
    "### Gradient Penalty\n",
    "Computes gradient penalty loss for A-WGAN"
   ]
  },
  {
   "cell_type": "code",
   "execution_count": 9,
   "metadata": {},
   "outputs": [],
   "source": [
    "def computeGradientPenalty(D, realSample, fakeSample):\n",
    "    alpha = Tensor(np.random.random((realSample.size(0), 1, 1, 1)))\n",
    "    interpolate = alpha * realSample + ((1 - alpha) * fakeSample)\n",
    "    interpolate = autograd.Variable(interpolate, requries_grad = True)\n",
    "    dInterpolation = D(interpolate)\n",
    "    fakeOutput = Variable(Tensor(realSample.shape[0], 1).fill_(1.0), requires_grad=False)\n",
    "    \n",
    "    gradients = autograd.grad(\n",
    "        outputs = dInterpolation,\n",
    "        inputs = interpolate,\n",
    "        grad_outputs = fakeOutput,\n",
    "        create_graph = True,\n",
    "        retain_graph = True,\n",
    "        only_inputs = True)[0]\n",
    "    \n",
    "    gradients = gradients.view(gradients.size(0), -1)\n",
    "    gradientPenalty = ((0,(gradients.norm(2, dim=1)-1)).max()).mean()\n",
    "    return gradientPenalty"
   ]
  },
  {
   "cell_type": "markdown",
   "metadata": {},
   "source": [
    "### Generator Loss"
   ]
  },
  {
   "cell_type": "code",
   "execution_count": 10,
   "metadata": {},
   "outputs": [],
   "source": [
    "def generatorAdversarialLoss( output_images):\n",
    "    validity = discriminator(output_images)\n",
    "    gen_adv_loss = torch.mean(validity)\n",
    "    \n",
    "    return gen_adv_loss\n",
    "\n",
    "# def computeGeneratorLoss(inputs, outputs_g1, outputs_g2):\n",
    "def computeGeneratorLoss(inputs, outputs_g1):\n",
    "    # generator 1\n",
    "    gen_adv_loss1 = generatorAdversarialLoss(outputs_g1)\n",
    "    \n",
    "#     generator 2\n",
    "#     gen_adv_loss2 = generatorAdversarialLoss(outputs_g2)\n",
    "    \n",
    "    i_loss = criterion(inputs, outputs_g1)\n",
    "    gen_loss = -gen_adv_loss1 + ALPHA*i_loss\n",
    "    \n",
    "    return gen_loss\n",
    "\n"
   ]
  },
  {
   "cell_type": "markdown",
   "metadata": {},
   "source": [
    "### Discriminator Loss"
   ]
  },
  {
   "cell_type": "code",
   "execution_count": 11,
   "metadata": {},
   "outputs": [],
   "source": [
    "def discrminatorLoss(d1Real, d1Fake, gradPenalty):\n",
    "    return (torch.mean(d1Fake) - torch.mean(d1Real.mean)) + (LAMBDA*gradPenalty)"
   ]
  },
  {
   "cell_type": "markdown",
   "metadata": {},
   "source": [
    "### Training Network"
   ]
  },
  {
   "cell_type": "code",
   "execution_count": 12,
   "metadata": {
    "scrolled": true
   },
   "outputs": [
    {
     "name": "stdout",
     "output_type": "stream",
     "text": [
      "x\n",
      "torch.Size([5, 16, 512, 512])\n",
      "x1\n",
      "torch.Size([5, 32, 256, 256])\n",
      "x2\n",
      "torch.Size([5, 64, 128, 128])\n",
      "x3\n",
      "torch.Size([5, 128, 64, 64])\n",
      "x4\n",
      "torch.Size([5, 128, 32, 32])\n",
      "x51\n",
      "torch.Size([5, 128, 16, 16])\n",
      "x52\n",
      "torch.Size([5, 128, 8, 8])\n",
      "x53\n",
      "torch.Size([5, 128, 1, 1])\n",
      "x53_temp\n",
      "torch.Size([5, 128, 32, 32])\n",
      "x5\n",
      "torch.Size([5, 128, 32, 32])\n",
      "x5\n",
      "torch.Size([5, 128, 32, 32])\n",
      "xd1\n",
      "torch.Size([5, 128, 64, 64])\n",
      "xd2\n",
      "torch.Size([5, 128, 128, 128])\n",
      "xd3\n",
      "torch.Size([5, 64, 256, 256])\n",
      "xd4\n",
      "torch.Size([5, 32, 512, 512])\n",
      "xd 8\n",
      "torch.Size([5, 16, 512, 512])\n",
      "xd 9\n",
      "torch.Size([5, 3, 512, 512])\n"
     ]
    },
    {
     "ename": "NameError",
     "evalue": "name 'autograd' is not defined",
     "output_type": "error",
     "traceback": [
      "\u001b[1;31m---------------------------------------------------------------------------\u001b[0m",
      "\u001b[1;31mNameError\u001b[0m                                 Traceback (most recent call last)",
      "\u001b[1;32m<ipython-input-12-8310becad364>\u001b[0m in \u001b[0;36m<module>\u001b[1;34m()\u001b[0m\n\u001b[0;32m     16\u001b[0m         \u001b[0mfakeValid\u001b[0m \u001b[1;33m=\u001b[0m \u001b[0mdiscriminator\u001b[0m\u001b[1;33m(\u001b[0m\u001b[0mfakeImgs\u001b[0m\u001b[1;33m)\u001b[0m\u001b[1;33m\u001b[0m\u001b[0m\n\u001b[0;32m     17\u001b[0m \u001b[1;33m\u001b[0m\u001b[0m\n\u001b[1;32m---> 18\u001b[1;33m         \u001b[0mgradientPenalty\u001b[0m \u001b[1;33m=\u001b[0m \u001b[0mcomputeGradientPenalty\u001b[0m\u001b[1;33m(\u001b[0m\u001b[0mdiscriminator\u001b[0m\u001b[1;33m,\u001b[0m \u001b[0mrealImgs\u001b[0m\u001b[1;33m.\u001b[0m\u001b[0mdata\u001b[0m\u001b[1;33m,\u001b[0m \u001b[0mfakeImgs\u001b[0m\u001b[1;33m.\u001b[0m\u001b[0mdata\u001b[0m\u001b[1;33m)\u001b[0m\u001b[1;33m\u001b[0m\u001b[0m\n\u001b[0m\u001b[0;32m     19\u001b[0m         \u001b[0mdLoss\u001b[0m \u001b[1;33m=\u001b[0m \u001b[0mdiscriminatorLoss\u001b[0m\u001b[1;33m(\u001b[0m\u001b[0mrealValid\u001b[0m\u001b[1;33m,\u001b[0m \u001b[0mfakeValid\u001b[0m\u001b[1;33m,\u001b[0m \u001b[0mgradientPenalty\u001b[0m\u001b[1;33m)\u001b[0m\u001b[1;33m\u001b[0m\u001b[0m\n\u001b[0;32m     20\u001b[0m         \u001b[0mdLoss\u001b[0m\u001b[1;33m.\u001b[0m\u001b[0mbackward\u001b[0m\u001b[1;33m(\u001b[0m\u001b[1;33m)\u001b[0m\u001b[1;33m\u001b[0m\u001b[0m\n",
      "\u001b[1;32m<ipython-input-9-61ae1794cfbb>\u001b[0m in \u001b[0;36mcomputeGradientPenalty\u001b[1;34m(D, realSample, fakeSample)\u001b[0m\n\u001b[0;32m      2\u001b[0m     \u001b[0malpha\u001b[0m \u001b[1;33m=\u001b[0m \u001b[0mTensor\u001b[0m\u001b[1;33m(\u001b[0m\u001b[0mnp\u001b[0m\u001b[1;33m.\u001b[0m\u001b[0mrandom\u001b[0m\u001b[1;33m.\u001b[0m\u001b[0mrandom\u001b[0m\u001b[1;33m(\u001b[0m\u001b[1;33m(\u001b[0m\u001b[0mrealSample\u001b[0m\u001b[1;33m.\u001b[0m\u001b[0msize\u001b[0m\u001b[1;33m(\u001b[0m\u001b[1;36m0\u001b[0m\u001b[1;33m)\u001b[0m\u001b[1;33m,\u001b[0m \u001b[1;36m1\u001b[0m\u001b[1;33m,\u001b[0m \u001b[1;36m1\u001b[0m\u001b[1;33m,\u001b[0m \u001b[1;36m1\u001b[0m\u001b[1;33m)\u001b[0m\u001b[1;33m)\u001b[0m\u001b[1;33m)\u001b[0m\u001b[1;33m\u001b[0m\u001b[0m\n\u001b[0;32m      3\u001b[0m     \u001b[0minterpolate\u001b[0m \u001b[1;33m=\u001b[0m \u001b[0malpha\u001b[0m \u001b[1;33m*\u001b[0m \u001b[0mrealSample\u001b[0m \u001b[1;33m+\u001b[0m \u001b[1;33m(\u001b[0m\u001b[1;33m(\u001b[0m\u001b[1;36m1\u001b[0m \u001b[1;33m-\u001b[0m \u001b[0malpha\u001b[0m\u001b[1;33m)\u001b[0m \u001b[1;33m*\u001b[0m \u001b[0mfakeSample\u001b[0m\u001b[1;33m)\u001b[0m\u001b[1;33m\u001b[0m\u001b[0m\n\u001b[1;32m----> 4\u001b[1;33m     \u001b[0minterpolate\u001b[0m \u001b[1;33m=\u001b[0m \u001b[0mautograd\u001b[0m\u001b[1;33m.\u001b[0m\u001b[0mVariable\u001b[0m\u001b[1;33m(\u001b[0m\u001b[0minterpolate\u001b[0m\u001b[1;33m,\u001b[0m \u001b[0mrequries_grad\u001b[0m \u001b[1;33m=\u001b[0m \u001b[1;32mTrue\u001b[0m\u001b[1;33m)\u001b[0m\u001b[1;33m\u001b[0m\u001b[0m\n\u001b[0m\u001b[0;32m      5\u001b[0m     \u001b[0mdInterpolation\u001b[0m \u001b[1;33m=\u001b[0m \u001b[0mD\u001b[0m\u001b[1;33m(\u001b[0m\u001b[0minterpolate\u001b[0m\u001b[1;33m)\u001b[0m\u001b[1;33m\u001b[0m\u001b[0m\n\u001b[0;32m      6\u001b[0m     \u001b[0mfakeOutput\u001b[0m \u001b[1;33m=\u001b[0m \u001b[0mVariable\u001b[0m\u001b[1;33m(\u001b[0m\u001b[0mTensor\u001b[0m\u001b[1;33m(\u001b[0m\u001b[0mrealSample\u001b[0m\u001b[1;33m.\u001b[0m\u001b[0mshape\u001b[0m\u001b[1;33m[\u001b[0m\u001b[1;36m0\u001b[0m\u001b[1;33m]\u001b[0m\u001b[1;33m,\u001b[0m \u001b[1;36m1\u001b[0m\u001b[1;33m)\u001b[0m\u001b[1;33m.\u001b[0m\u001b[0mfill_\u001b[0m\u001b[1;33m(\u001b[0m\u001b[1;36m1.0\u001b[0m\u001b[1;33m)\u001b[0m\u001b[1;33m,\u001b[0m \u001b[0mrequires_grad\u001b[0m\u001b[1;33m=\u001b[0m\u001b[1;32mFalse\u001b[0m\u001b[1;33m)\u001b[0m\u001b[1;33m\u001b[0m\u001b[0m\n",
      "\u001b[1;31mNameError\u001b[0m: name 'autograd' is not defined"
     ]
    }
   ],
   "source": [
    "batches_done = 0\n",
    "for epoch in range(NUM_EPOCHS):\n",
    "    for i, data in enumerate(trainloader, 0):\n",
    "        input, dummy = data\n",
    "        realImgs = Variable(input.type(Tensor))\n",
    "        noiseImgs = Variable(Tensor(np.random.normal(loc = 0,scale = 1, size = input.shape)))\n",
    "#         print(noiseImgs)\n",
    "        ### TRAIN DISCRIMINATOR\n",
    "        optimizer_d.zero_grad()\n",
    "        fakeImgs = generator1(noiseImgs)\n",
    "#         fake2Imgs = generator2(fake1Imgs)\n",
    "        \n",
    "        # Real Images\n",
    "        realValid = discriminator(realImgs)\n",
    "        # Fake Images\n",
    "        fakeValid = discriminator(fakeImgs)\n",
    "        \n",
    "        gradientPenalty = computeGradientPenalty(discriminator, realImgs.data, fakeImgs.data)\n",
    "        dLoss = discriminatorLoss(realValid, fakeValid, gradientPenalty)\n",
    "        dLoss.backward()\n",
    "        optimizer_d.step()\n",
    "        optimizer_g1.zero_grad()\n",
    "        \n",
    "        ### TRAIN GENERATOR\n",
    "        if i % TRAIN_NUM == 50:\n",
    "            print(\"Hello\" + i)\n",
    "             # -----------------\n",
    "            #  Train Generator\n",
    "            # -----------------\n",
    "\n",
    "            # Generate a batch of images\n",
    "            fake_imgs = generator(noiseImgs)\n",
    "            g_loss = computeGeneratorLoss(noiseImgs,fake_imgs)\n",
    "\n",
    "            g_loss.backward()\n",
    "            optimizer_G.step()\n",
    "\n",
    "            print(\n",
    "                \"[Epoch %d/%d] [Batch %d/%d] [D loss: %f] [G loss: %f]\"\n",
    "                % (epoch, NUM_EPOCHS , i, len(dataloader), d_loss.item(), g_loss.item())\n",
    "            )\n",
    "\n",
    "            if batches_done % 200 == 0:\n",
    "                save_image(fake_imgs.data[:25], \"images/%d.png\" % batches_done, nrow=5, normalize=True)\n",
    "\n",
    "            batches_done += TRAIN_NUM\n",
    "            \n",
    "            "
   ]
  },
  {
   "cell_type": "code",
   "execution_count": null,
   "metadata": {},
   "outputs": [],
   "source": []
  }
 ],
 "metadata": {
  "kernelspec": {
   "display_name": "Python 3",
   "language": "python",
   "name": "python3"
  },
  "language_info": {
   "codemirror_mode": {
    "name": "ipython",
    "version": 3
   },
   "file_extension": ".py",
   "mimetype": "text/x-python",
   "name": "python",
   "nbconvert_exporter": "python",
   "pygments_lexer": "ipython3",
   "version": "3.6.6"
  }
 },
 "nbformat": 4,
 "nbformat_minor": 2
}
