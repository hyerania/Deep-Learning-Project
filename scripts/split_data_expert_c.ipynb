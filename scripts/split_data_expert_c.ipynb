{
 "cells": [
  {
   "cell_type": "code",
   "execution_count": 32,
   "metadata": {},
   "outputs": [],
   "source": [
    "import os, os.path, shutil\n",
    "import glob\n",
    "import sys\n",
    "from os import listdir\n",
    "\n",
    "test=os.listdir(\"./Expert-C\")\n",
    "sub_directories = os.walk(test)\n",
    "filename = \"./Expert-C/download.py\"\n",
    "if os.path.exists(filename):\n",
    "    os.remove(filname)\n",
    "    \n",
    "idea_folder = \"./Expert-C/.idea/\"\n",
    "if os.path.exists(idea_folder):\n",
    "    shutil.rmtree(idea_folder)    \n",
    "\n",
    "        \n",
    "folder_path = \"./Expert-C\"\n",
    "folder_path1 = \"./Expert-C/Training1\"\n",
    "folder_path2 = \"./Expert-C/Training2\"\n",
    "folder_path3 = \"./Expert-C/Testing\"\n",
    "folder_name = \"data\"\n",
    "\n",
    "\n",
    "images = [f for f in os.listdir(folder_path) if os.path.isfile(os.path.join(folder_path, f))]\n",
    "\n",
    "new_path_1 = os.path.join(folder_path1, folder_name)\n",
    "new_path_2 = os.path.join(folder_path2, folder_name)\n",
    "new_path_3 = os.path.join(folder_path3, folder_name)\n",
    "\n",
    "    \n",
    "if not os.path.exists(new_path_1):\n",
    "    os.makedirs(new_path_1)\n",
    "    \n",
    "if not os.path.exists(new_path_2):\n",
    "    os.makedirs(new_path_2)\n",
    "    \n",
    "if not os.path.exists(new_path_3):\n",
    "    os.makedirs(new_path_3)\n",
    "    \n",
    "for i,image in enumerate(images, 0):\n",
    "#     print(i)\n",
    "#     print(image)\n",
    "    if(i <= 2249):\n",
    "        old_image_path = os.path.join(folder_path, image)\n",
    "        new_image_path = os.path.join(new_path_1, image)\n",
    "        shutil.move(old_image_path, new_image_path) \n",
    "    elif(i <= 4499):\n",
    "        old_image_path = os.path.join(folder_path, image)\n",
    "        new_image_path = os.path.join(new_path_2, image)\n",
    "        shutil.move(old_image_path, new_image_path) \n",
    "    else:\n",
    "        old_image_path = os.path.join(folder_path, image)\n",
    "        new_image_path = os.path.join(new_path_3, image)\n",
    "        shutil.move(old_image_path, new_image_path) \n",
    "\n"
   ]
  },
  {
   "cell_type": "code",
   "execution_count": null,
   "metadata": {},
   "outputs": [],
   "source": []
  }
 ],
 "metadata": {
  "kernelspec": {
   "display_name": "Python 3",
   "language": "python",
   "name": "python3"
  },
  "language_info": {
   "codemirror_mode": {
    "name": "ipython",
    "version": 3
   },
   "file_extension": ".py",
   "mimetype": "text/x-python",
   "name": "python",
   "nbconvert_exporter": "python",
   "pygments_lexer": "ipython3",
   "version": "3.6.5"
  }
 },
 "nbformat": 4,
 "nbformat_minor": 2
}
