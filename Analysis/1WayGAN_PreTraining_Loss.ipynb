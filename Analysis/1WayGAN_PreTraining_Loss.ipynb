{
 "cells": [
  {
   "cell_type": "code",
   "execution_count": 7,
   "metadata": {},
   "outputs": [],
   "source": [
    "import matplotlib.pyplot as plt\n",
    "import numpy as np"
   ]
  },
  {
   "cell_type": "markdown",
   "metadata": {},
   "source": [
    "### Pre-Training Array File"
   ]
  },
  {
   "cell_type": "code",
   "execution_count": 14,
   "metadata": {},
   "outputs": [
    {
     "ename": "FileNotFoundError",
     "evalue": "[Errno 2] No such file or directory: ''",
     "output_type": "error",
     "traceback": [
      "\u001b[1;31m---------------------------------------------------------------------------\u001b[0m",
      "\u001b[1;31mFileNotFoundError\u001b[0m                         Traceback (most recent call last)",
      "\u001b[1;32m<ipython-input-14-f69581a73cd9>\u001b[0m in \u001b[0;36m<module>\u001b[1;34m\u001b[0m\n\u001b[1;32m----> 1\u001b[1;33m \u001b[0mF\u001b[0m \u001b[1;33m=\u001b[0m \u001b[0mopen\u001b[0m\u001b[1;33m(\u001b[0m\u001b[1;34m\"\"\u001b[0m\u001b[1;33m)\u001b[0m\u001b[1;33m\u001b[0m\u001b[1;33m\u001b[0m\u001b[0m\n\u001b[0m\u001b[0;32m      2\u001b[0m \u001b[0mlines\u001b[0m \u001b[1;33m=\u001b[0m \u001b[0mF\u001b[0m\u001b[1;33m.\u001b[0m\u001b[0mreadlines\u001b[0m\u001b[1;33m(\u001b[0m\u001b[1;33m)\u001b[0m\u001b[1;33m\u001b[0m\u001b[1;33m\u001b[0m\u001b[0m\n\u001b[0;32m      3\u001b[0m \u001b[0mcount\u001b[0m \u001b[1;33m=\u001b[0m \u001b[1;36m0\u001b[0m\u001b[1;33m\u001b[0m\u001b[1;33m\u001b[0m\u001b[0m\n\u001b[0;32m      4\u001b[0m \u001b[0mlossError\u001b[0m \u001b[1;33m=\u001b[0m \u001b[1;33m[\u001b[0m\u001b[1;33m]\u001b[0m\u001b[1;33m\u001b[0m\u001b[1;33m\u001b[0m\u001b[0m\n\u001b[0;32m      5\u001b[0m \u001b[1;32mfor\u001b[0m \u001b[0mi\u001b[0m \u001b[1;32min\u001b[0m \u001b[0mrange\u001b[0m\u001b[1;33m(\u001b[0m\u001b[0mlen\u001b[0m\u001b[1;33m(\u001b[0m\u001b[0mlines\u001b[0m\u001b[1;33m)\u001b[0m\u001b[1;33m)\u001b[0m\u001b[1;33m:\u001b[0m\u001b[1;33m\u001b[0m\u001b[1;33m\u001b[0m\u001b[0m\n",
      "\u001b[1;31mFileNotFoundError\u001b[0m: [Errno 2] No such file or directory: ''"
     ]
    }
   ],
   "source": [
    "F = open(\"\")\n",
    "lines = F.readlines()\n",
    "count = 0\n",
    "lossError = []\n",
    "for i in range(len(lines)):\n",
    "#     print(lines[i])\n",
    "    lossError.append(float(lines[i].strip()))\n",
    "#     print(lines[i])\n",
    "#     count+=1\n",
    "# print (lossError)\n",
    "# print(len(running_losslist))\n",
    "# axes = plt.gca()\n",
    "\n",
    "x_vals = np.arange(0, len(lines))\n",
    "fig, ax1 = plt.subplots(figsize=(15, 8))\n",
    "# plt.locator_params(axis='y', nbins=2)\n",
    "plt.plot(x_vals, lossError)\n",
    "# plt.yscale('log')\n",
    "# every_nth = 50\n",
    "# for n, label in enumerate(ax1.yaxis.get_ticklabels()):\n",
    "#     if n % every_nth != 0:\n",
    "#         label.set_visible(False)\n",
    "# ax1.locator_params(nbins=4, axis='y')\n",
    "\n",
    "# plt.xlabel(\"iteration\")\n",
    "# plt.ylabel(\"error\")\n",
    "# plt.savefig(\"gen1_pretrain\")\n",
    "plt.show()\n",
    "# plt.savefig('PreTrainLoss')\n"
   ]
  },
  {
   "cell_type": "code",
   "execution_count": 15,
   "metadata": {},
   "outputs": [],
   "source": [
    "F = open(\"G:\\DeepLearningData\\dl\\models_24\\log_PreTraining.txt\")\n",
    "lines = F.readlines()\n",
    "gLoss = []\n",
    "iteration = []\n",
    "for i in range(len(lines)):\n",
    "    array = lines[i].replace(\"[\", \"\").replace(\"]\", \"\").replace(\"loss: \", \"\").strip().split(\" \")\n",
    "#     print(array)\n",
    "    iterationArray = array[3].split(\"/\")\n",
    "    epochArray = array[1].split(\"/\")\n",
    "    if(int(epochArray[0]) == 0):\n",
    "        epochArray[0] = 1\n",
    "    elif(int(epochArray[0]) > 0):\n",
    "        epochArray[0] = int(epochArray[0]) + 1\n",
    "\n",
    "    if(epochArray[0] == 1):\n",
    "        iteration.append(int(iterationArray[0]))\n",
    "    elif(epochArray[0] > 1):\n",
    "        iteration.append(int(iterationArray[0])+((epochArray[0]-1) * 450))\n",
    "\n",
    "    gLoss.append(float(array[5]))\n",
    "# print (gLoss)"
   ]
  },
  {
   "cell_type": "code",
   "execution_count": 22,
   "metadata": {},
   "outputs": [
    {
     "data": {
      "image/png": "[encoded data removed]",
      "text/plain": [
       "<Figure size 1080x576 with 1 Axes>"
      ]
     },
     "metadata": {
      "needs_background": "light"
     },
     "output_type": "display_data"
    }
   ],
   "source": [
    "fig, ax1 = plt.subplots(figsize=(15, 8))\n",
    "plt.plot(iteration, gLoss, color='b')\n",
    "plt.xlabel(\"Iterations\", fontsize=16)\n",
    "plt.ylabel(\"G Loss Error\", fontsize=16)\n",
    "plt.xticks(fontsize=14)\n",
    "plt.yticks(fontsize = 14)\n",
    "plt.savefig(\"gen_pretrain\")\n",
    "\n",
    "plt.show()"
   ]
  },
  {
   "cell_type": "code",
   "execution_count": null,
   "metadata": {},
   "outputs": [],
   "source": []
  }
 ],
 "metadata": {
  "kernelspec": {
   "display_name": "Python 3",
   "language": "python",
   "name": "python3"
  },
  "language_info": {
   "codemirror_mode": {
    "name": "ipython",
    "version": 3
   },
   "file_extension": ".py",
   "mimetype": "text/x-python",
   "name": "python",
   "nbconvert_exporter": "python",
   "pygments_lexer": "ipython3",
   "version": "3.6.7"
  }
 },
 "nbformat": 4,
 "nbformat_minor": 2
}
